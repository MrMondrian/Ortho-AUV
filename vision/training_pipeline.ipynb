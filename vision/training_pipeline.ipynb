{
 "cells": [
  {
   "cell_type": "markdown",
   "metadata": {},
   "source": [
    "# Set up"
   ]
  },
  {
   "cell_type": "code",
   "execution_count": null,
   "metadata": {},
   "outputs": [],
   "source": [
    "!pip install albumentations\n",
    "!pip install opencv-python\n",
    "!pip install ultralytics\n",
    "!pip install roboflow\n",
    "!pip install inference supervision"
   ]
  },
  {
   "cell_type": "code",
   "execution_count": 5,
   "metadata": {},
   "outputs": [],
   "source": [
    "import os, shutil\n",
    "from os import listdir\n",
    "from os.path import isfile, join\n",
    "import cv2\n",
    "import albumentations as A\n",
    "import copy\n",
    "import random\n",
    "import numpy as np\n",
    "from ultralytics import YOLO\n",
    "import torch\n",
    "import shutil"
   ]
  },
  {
   "cell_type": "code",
   "execution_count": null,
   "metadata": {},
   "outputs": [],
   "source": [
    "# If you don't have yolov9 set up\n",
    "!git clone https://github.com/SkalskiP/yolov9.git\n",
    "%cd yolov9\n",
    "!pip install -r requirements.txt -q"
   ]
  },
  {
   "cell_type": "code",
   "execution_count": null,
   "metadata": {},
   "outputs": [],
   "source": [
    "# If you already have yolov9 in your repo\n",
    "%cd yolov9"
   ]
  },
  {
   "cell_type": "code",
   "execution_count": null,
   "metadata": {},
   "outputs": [],
   "source": [
    "from roboflow import Roboflow\n",
    "\n",
    "rf = Roboflow(api_key=\"HV9jB1dcJZHZd1YO5S7C\") \n",
    "project = rf.workspace(\"comp400\").project(\"comp400-fish-detection\")\n",
    "dataset = project.version(3).download(\"yolov9\")"
   ]
  },
  {
   "cell_type": "markdown",
   "metadata": {},
   "source": [
    "# Train (training with on roboflow's website is easier - ignore this section)"
   ]
  },
  {
   "cell_type": "code",
   "execution_count": null,
   "metadata": {},
   "outputs": [],
   "source": [
    "!wget -P weights -q https://github.com/WongKinYiu/yolov9/releases/download/v0.1/yolov9-c.pt\n",
    "!wget -P weights -q https://github.com/WongKinYiu/yolov9/releases/download/v0.1/yolov9-e.pt\n",
    "!wget -P weights -q https://github.com/WongKinYiu/yolov9/releases/download/v0.1/gelan-c.pt\n",
    "!wget -P weights -q https://github.com/WongKinYiu/yolov9/releases/download/v0.1/gelan-e.pt"
   ]
  },
  {
   "cell_type": "code",
   "execution_count": null,
   "metadata": {},
   "outputs": [],
   "source": [
    "!python3 train.py \\\n",
    "     --data COMP400-Fish-detection-3/data.yaml \\\n",
    "     --weights weights/gelan-c.pt \\\n",
    "     --cfg models/detect/gelan-c.yaml \\\n",
    "     --hyp hyp.scratch-high.yaml \\\n",
    "     --device cpu\n",
    "     "
   ]
  },
  {
   "cell_type": "markdown",
   "metadata": {},
   "source": [
    "# Deploy"
   ]
  },
  {
   "cell_type": "code",
   "execution_count": 6,
   "metadata": {},
   "outputs": [
    {
     "name": "stdout",
     "output_type": "stream",
     "text": [
      "loading Roboflow workspace...\n",
      "loading Roboflow project...\n"
     ]
    }
   ],
   "source": [
    "from roboflow import Roboflow\n",
    "\n",
    "rf = Roboflow(api_key='HV9jB1dcJZHZd1YO5S7C')\n",
    "project = rf.workspace('comp400').project('comp400-fish-detection')\n",
    "model = project.version(4).model"
   ]
  },
  {
   "cell_type": "code",
   "execution_count": 7,
   "metadata": {},
   "outputs": [],
   "source": [
    "import os \n",
    "\n",
    "data_dir = \"../data4\"\n",
    "file_name = \"geo.txt\"\n",
    "\n",
    "with open(os.path.join(data_dir, file_name), \"r\") as f:\n",
    "     lines = f.readlines()\n",
    "     lines = lines[1:]  # Skip the header line\n",
    "\n",
    "filenames_raw, filenames_depth = [], []\n",
    "\n",
    "for line in lines:\n",
    "     filename_raw, filename_depth, _, _, _, _, _, _ = line.strip().split()\n",
    "     filenames_raw.append(filename_raw)\n",
    "     filenames_depth.append(filename_depth)\n"
   ]
  },
  {
   "cell_type": "code",
   "execution_count": null,
   "metadata": {},
   "outputs": [],
   "source": [
    "!mkdir predictions"
   ]
  },
  {
   "cell_type": "code",
   "execution_count": null,
   "metadata": {},
   "outputs": [],
   "source": [
    "file = filenames_raw[0]\n",
    "prediction = model.predict(os.path.join(data_dir, file), confidence=50, overlap=50).json()[\"predictions\"][0]\n",
    "x = prediction[\"x\"]\n",
    "print(prediction)"
   ]
  },
  {
   "cell_type": "code",
   "execution_count": 12,
   "metadata": {},
   "outputs": [
    {
     "name": "stdout",
     "output_type": "stream",
     "text": [
      "[{'x': 57.5, 'y': 31.5, 'width': 111.0, 'height': 63.0, 'confidence': 0.9175102114677429, 'class': 'fish1', 'class_id': 0, 'detection_id': 'c8597225-bdd8-4efb-9181-547de8dab27e', 'image_path': '../data4/22:28:23.171_raw.jpg', 'prediction_type': 'ObjectDetectionModel'}, {'x': 102.5, 'y': 66.5, 'width': 51.0, 'height': 35.0, 'confidence': 0.8794440031051636, 'class': 'fish1', 'class_id': 0, 'detection_id': 'df0bc43b-35b3-43bc-860d-791ecae7f3ad', 'image_path': '../data4/22:28:23.171_raw.jpg', 'prediction_type': 'ObjectDetectionModel'}, {'x': 134.0, 'y': 47.5, 'width': 46.0, 'height': 33.0, 'confidence': 0.8679935932159424, 'class': 'fish1', 'class_id': 0, 'detection_id': '8abd43bc-5ddc-4bcb-9b11-75b43008d13b', 'image_path': '../data4/22:28:23.171_raw.jpg', 'prediction_type': 'ObjectDetectionModel'}, {'x': 338.5, 'y': 229.5, 'width': 101.0, 'height': 35.0, 'confidence': 0.7030525207519531, 'class': 'fish1', 'class_id': 0, 'detection_id': 'f9b0b2e5-d17f-4791-a600-f43c4e769ad5', 'image_path': '../data4/22:28:23.171_raw.jpg', 'prediction_type': 'ObjectDetectionModel'}]\n",
      "[{'x': 359.0, 'y': 172.5, 'width': 110.0, 'height': 57.0, 'confidence': 0.8591528534889221, 'class': 'fish1', 'class_id': 0, 'detection_id': '2d3a644d-77cd-4256-896b-35a84aac7c2c', 'image_path': '../data4/22:28:28.171_raw.jpg', 'prediction_type': 'ObjectDetectionModel'}]\n",
      "[{'x': 230.0, 'y': 215.0, 'width': 110.0, 'height': 62.0, 'confidence': 0.9007325172424316, 'class': 'fish1', 'class_id': 0, 'detection_id': '8b8d6ffb-374a-4265-853d-cb449db2398f', 'image_path': '../data4/22:29:05.171_raw.jpg', 'prediction_type': 'ObjectDetectionModel'}, {'x': 335.5, 'y': 72.5, 'width': 93.0, 'height': 61.0, 'confidence': 0.8307094573974609, 'class': 'fish1', 'class_id': 0, 'detection_id': 'c9e00b2b-ea4a-49f8-80d6-63c311a19bd5', 'image_path': '../data4/22:29:05.171_raw.jpg', 'prediction_type': 'ObjectDetectionModel'}, {'x': 323.5, 'y': 103.5, 'width': 43.0, 'height': 41.0, 'confidence': 0.768093466758728, 'class': 'fish1', 'class_id': 0, 'detection_id': '6ff7606e-9104-455d-b093-5edd47217332', 'image_path': '../data4/22:29:05.171_raw.jpg', 'prediction_type': 'ObjectDetectionModel'}]\n",
      "[{'x': 296.0, 'y': 230.5, 'width': 62.0, 'height': 37.0, 'confidence': 0.9221360683441162, 'class': 'fish1', 'class_id': 0, 'detection_id': '734b9310-7ea0-48da-872d-f5669a9eed28', 'image_path': '../data4/22:29:27.171_raw.jpg', 'prediction_type': 'ObjectDetectionModel'}, {'x': 280.0, 'y': 190.5, 'width': 118.0, 'height': 63.0, 'confidence': 0.8954135775566101, 'class': 'fish1', 'class_id': 0, 'detection_id': 'a4d56c22-fdb7-4551-9ad8-ec2e1b964240', 'image_path': '../data4/22:29:27.171_raw.jpg', 'prediction_type': 'ObjectDetectionModel'}, {'x': 313.0, 'y': 146.5, 'width': 96.0, 'height': 59.0, 'confidence': 0.8910112977027893, 'class': 'fish1', 'class_id': 0, 'detection_id': '9079759b-4882-4b7b-bfdf-b6596073fed6', 'image_path': '../data4/22:29:27.171_raw.jpg', 'prediction_type': 'ObjectDetectionModel'}, {'x': 386.0, 'y': 59.5, 'width': 56.0, 'height': 47.0, 'confidence': 0.8755051493644714, 'class': 'fish1', 'class_id': 0, 'detection_id': '2329043c-3ac2-4cc5-8626-99e80692a84d', 'image_path': '../data4/22:29:27.171_raw.jpg', 'prediction_type': 'ObjectDetectionModel'}]\n"
     ]
    }
   ],
   "source": [
    "with open(\"prediction.txt\", \"w\") as f:\n",
    "     f.write(\"filename_raw filename_depth x y width height\")\n",
    "     for i in range(len(filenames_raw)):\n",
    "          prediction = model.predict(os.path.join(data_dir, filenames_raw[i]), confidence=50, overlap=50).json()[\"predictions\"]\n",
    "          print(prediction)\n",
    "          for j in range(len(prediction)):\n",
    "               instance = prediction[j]\n",
    "               x = instance[\"x\"]\n",
    "               y = instance[\"y\"]\n",
    "               width = instance[\"width\"]\n",
    "               height = instance[\"height\"]\n",
    "               f.write(f\"\\n{filenames_raw[i]} {filenames_depth[i]} {x} {y} {width} {height}\")\n",
    "     \n",
    "     # uncoment next line if you want to visualize predictions\n",
    "     # "
   ]
  },
  {
   "cell_type": "code",
   "execution_count": null,
   "metadata": {},
   "outputs": [
    {
     "name": "stdout",
     "output_type": "stream",
     "text": [
      "None\n"
     ]
    }
   ],
   "source": [
    "predict = model.predict(os.path.join(data_dir, \"22:28:23.171_raw.jpg\"), confidence=50, overlap=50).save(f\"prediction_22:28:23.171_raw.jpg.jpg\")\n",
    "print(predict)"
   ]
  }
 ],
 "metadata": {
  "kernelspec": {
   "display_name": "Python 3",
   "language": "python",
   "name": "python3"
  },
  "language_info": {
   "codemirror_mode": {
    "name": "ipython",
    "version": 3
   },
   "file_extension": ".py",
   "mimetype": "text/x-python",
   "name": "python",
   "nbconvert_exporter": "python",
   "pygments_lexer": "ipython3",
   "version": "3.8.10"
  }
 },
 "nbformat": 4,
 "nbformat_minor": 2
}
